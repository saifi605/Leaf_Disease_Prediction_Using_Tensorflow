{
  "nbformat": 4,
  "nbformat_minor": 0,
  "metadata": {
    "colab": {
      "name": "leafDisease.ipynb",
      "provenance": [],
      "collapsed_sections": [],
      "toc_visible": true
    },
    "kernelspec": {
      "name": "python3",
      "display_name": "Python 3"
    },
    "language_info": {
      "name": "python"
    },
    "accelerator": "GPU"
  },
  "cells": [
    {
      "cell_type": "code",
      "metadata": {
        "id": "lO4LfLgd3LLj"
      },
      "source": [
        "from google.colab import drive"
      ],
      "execution_count": 1,
      "outputs": []
    },
    {
      "cell_type": "code",
      "metadata": {
        "colab": {
          "base_uri": "https://localhost:8080/"
        },
        "id": "kY6m60VI36kj",
        "outputId": "3aa33902-2643-4f03-a01d-793567fe3e8d"
      },
      "source": [
        "drive.mount('/content/drive')"
      ],
      "execution_count": 2,
      "outputs": [
        {
          "output_type": "stream",
          "text": [
            "Mounted at /content/drive\n"
          ],
          "name": "stdout"
        }
      ]
    },
    {
      "cell_type": "code",
      "metadata": {
        "id": "0V6cLRhH4DRR"
      },
      "source": [
        "import tensorflow as tf\n",
        "import tensorflow_hub as hub"
      ],
      "execution_count": 3,
      "outputs": []
    },
    {
      "cell_type": "code",
      "metadata": {
        "id": "Y_8bp8PV5U_e"
      },
      "source": [
        "train_dir ='/content/drive/MyDrive/data/train'\n",
        "test_dir='/content/drive/MyDrive/data/test'"
      ],
      "execution_count": 4,
      "outputs": []
    },
    {
      "cell_type": "code",
      "metadata": {
        "id": "khR6Bfgn5ZPs"
      },
      "source": [
        "train_datagen = tf.keras.preprocessing.image.ImageDataGenerator(\n",
        "        rescale=1./255)\n",
        "\n",
        "test_datagen = tf.keras.preprocessing.image.ImageDataGenerator(\n",
        "        rescale=1./255)"
      ],
      "execution_count": 5,
      "outputs": []
    },
    {
      "cell_type": "code",
      "metadata": {
        "colab": {
          "base_uri": "https://localhost:8080/"
        },
        "id": "jecxL62n5cD1",
        "outputId": "dc425467-0ab9-46c9-c6b2-d59e2ce44690"
      },
      "source": [
        "img_width,img_height =256,256\n",
        "input_shape=(img_width,img_height,3)\n",
        "batch_size = 24\n",
        "train_generator =train_datagen.flow_from_directory(train_dir,\n",
        "                                                   shuffle=True,\n",
        "                                                   color_mode=\"rgb\",\n",
        "                                                   class_mode=\"categorical\",\n",
        "                                                   target_size=(img_width,img_height),\n",
        "                                                   batch_size=batch_size)\n",
        "test_generator=test_datagen.flow_from_directory(test_dir,shuffle=True,\n",
        "                                                   color_mode=\"rgb\",\n",
        "                                                   class_mode=\"categorical\",\n",
        "                                                   target_size=(img_width,img_height),\n",
        "                                                   batch_size=batch_size)"
      ],
      "execution_count": 6,
      "outputs": [
        {
          "output_type": "stream",
          "text": [
            "Found 3742 images belonging to 38 classes.\n",
            "Found 380 images belonging to 38 classes.\n"
          ],
          "name": "stdout"
        }
      ]
    },
    {
      "cell_type": "code",
      "metadata": {
        "id": "9Rv_zGnP5seF"
      },
      "source": [
        "INCEPTIONV3_TFHUB = 'https://tfhub.dev/google/tf2-preview/inception_v3/feature_vector/4'"
      ],
      "execution_count": 7,
      "outputs": []
    },
    {
      "cell_type": "code",
      "metadata": {
        "id": "96BeGqzV6ZH5"
      },
      "source": [
        "num_classes = train_generator.num_classes\n",
        "\n",
        "# fetch the feature extractor from the tf_hub\n",
        "feature_extractor = hub.KerasLayer(INCEPTIONV3_TFHUB, input_shape=input_shape)\n",
        "\n",
        "# make the feature extractor trainable\n",
        "feature_extractor.trainable = True\n",
        "\n",
        "# create the sequential model\n",
        "model = tf.keras.Sequential([\n",
        "    feature_extractor,\n",
        "    tf.keras.layers.Flatten(),\n",
        "    tf.keras.layers.Dense(num_classes, activation='softmax', kernel_regularizer=tf.keras.regularizers.l2(0.0005))\n",
        "])"
      ],
      "execution_count": 8,
      "outputs": []
    },
    {
      "cell_type": "code",
      "metadata": {
        "colab": {
          "base_uri": "https://localhost:8080/"
        },
        "id": "ZIzUXr-ipMpA",
        "outputId": "8cbb4a37-059c-411e-94ae-b44f7eb8681e"
      },
      "source": [
        "model.summary()"
      ],
      "execution_count": 9,
      "outputs": [
        {
          "output_type": "stream",
          "text": [
            "Model: \"sequential\"\n",
            "_________________________________________________________________\n",
            "Layer (type)                 Output Shape              Param #   \n",
            "=================================================================\n",
            "keras_layer (KerasLayer)     (None, 2048)              21802784  \n",
            "_________________________________________________________________\n",
            "flatten (Flatten)            (None, 2048)              0         \n",
            "_________________________________________________________________\n",
            "dense (Dense)                (None, 38)                77862     \n",
            "=================================================================\n",
            "Total params: 21,880,646\n",
            "Trainable params: 21,846,214\n",
            "Non-trainable params: 34,432\n",
            "_________________________________________________________________\n"
          ],
          "name": "stdout"
        }
      ]
    },
    {
      "cell_type": "code",
      "metadata": {
        "id": "JzY6AR2N94PS"
      },
      "source": [
        "model.compile(\n",
        "    optimizer=tf.keras.optimizers.SGD(learning_rate=0.005, momentum=0.9),\n",
        "    loss='categorical_crossentropy',\n",
        "    metrics=['accuracy']\n",
        ")"
      ],
      "execution_count": 10,
      "outputs": []
    },
    {
      "cell_type": "code",
      "metadata": {
        "colab": {
          "base_uri": "https://localhost:8080/"
        },
        "id": "hlTpESnW-CEq",
        "outputId": "ad73a8a8-2459-4c5a-a565-d5646a9ceeba"
      },
      "source": [
        "model.fit(\n",
        "    train_generator,\n",
        "    epochs=10,\n",
        "    steps_per_epoch=train_generator.samples//train_generator.batch_size,\n",
        "    validation_data=test_generator,\n",
        ")"
      ],
      "execution_count": 12,
      "outputs": [
        {
          "output_type": "stream",
          "text": [
            "Epoch 1/10\n",
            "155/155 [==============================] - 477s 3s/step - loss: 0.5005 - accuracy: 0.9306 - val_loss: 0.5325 - val_accuracy: 0.9079\n",
            "Epoch 2/10\n",
            "155/155 [==============================] - 40s 260ms/step - loss: 0.3776 - accuracy: 0.9691 - val_loss: 0.4335 - val_accuracy: 0.9447\n",
            "Epoch 3/10\n",
            "155/155 [==============================] - 41s 267ms/step - loss: 0.3121 - accuracy: 0.9898 - val_loss: 0.4282 - val_accuracy: 0.9474\n",
            "Epoch 4/10\n",
            "155/155 [==============================] - 41s 267ms/step - loss: 0.3008 - accuracy: 0.9925 - val_loss: 0.3419 - val_accuracy: 0.9737\n",
            "Epoch 5/10\n",
            "155/155 [==============================] - 42s 267ms/step - loss: 0.2905 - accuracy: 0.9960 - val_loss: 0.3795 - val_accuracy: 0.9632\n",
            "Epoch 6/10\n",
            "155/155 [==============================] - 43s 274ms/step - loss: 0.2853 - accuracy: 0.9970 - val_loss: 0.3732 - val_accuracy: 0.9711\n",
            "Epoch 7/10\n",
            "155/155 [==============================] - 42s 271ms/step - loss: 0.2835 - accuracy: 0.9978 - val_loss: 0.3479 - val_accuracy: 0.9711\n",
            "Epoch 8/10\n",
            "155/155 [==============================] - 43s 277ms/step - loss: 0.2818 - accuracy: 0.9973 - val_loss: 0.3464 - val_accuracy: 0.9763\n",
            "Epoch 9/10\n",
            "155/155 [==============================] - 43s 276ms/step - loss: 0.2770 - accuracy: 0.9984 - val_loss: 0.3756 - val_accuracy: 0.9763\n",
            "Epoch 10/10\n",
            "155/155 [==============================] - 43s 274ms/step - loss: 0.2773 - accuracy: 0.9968 - val_loss: 0.3726 - val_accuracy: 0.9737\n"
          ],
          "name": "stdout"
        },
        {
          "output_type": "execute_result",
          "data": {
            "text/plain": [
              "<tensorflow.python.keras.callbacks.History at 0x7fbda24a0050>"
            ]
          },
          "metadata": {
            "tags": []
          },
          "execution_count": 12
        }
      ]
    },
    {
      "cell_type": "code",
      "metadata": {
        "colab": {
          "base_uri": "https://localhost:8080/"
        },
        "id": "Ua6Ap-T5-YGn",
        "outputId": "1f171852-d47f-4016-bc58-36256a3c6ec4"
      },
      "source": [
        "# evaluate the model\n",
        "loss, accuracy = model.evaluate(test_generator)\n",
        "# train accuracy\n",
        "train_loss, train_accuracy = model.evaluate(train_generator)"
      ],
      "execution_count": 13,
      "outputs": [
        {
          "output_type": "stream",
          "text": [
            "16/16 [==============================] - 2s 88ms/step - loss: 0.3726 - accuracy: 0.9737\n",
            "156/156 [==============================] - 13s 86ms/step - loss: 0.2703 - accuracy: 0.9984\n"
          ],
          "name": "stdout"
        }
      ]
    },
    {
      "cell_type": "code",
      "metadata": {
        "colab": {
          "base_uri": "https://localhost:8080/",
          "height": 35
        },
        "id": "-4Z_daB3Fb6H",
        "outputId": "a0c601bf-447e-45cf-8bc4-0104e6abf797"
      },
      "source": [
        "\"Trained Model for {} epochs, train accuracy: {:5.2f}%, test accuracy: {:5.2f}%\".format(4, 100*train_accuracy, 100*accuracy)"
      ],
      "execution_count": 15,
      "outputs": [
        {
          "output_type": "execute_result",
          "data": {
            "application/vnd.google.colaboratory.intrinsic+json": {
              "type": "string"
            },
            "text/plain": [
              "'Trained Model for 4 epochs, train accuracy: 99.84%, test accuracy: 97.37%'"
            ]
          },
          "metadata": {
            "tags": []
          },
          "execution_count": 15
        }
      ]
    },
    {
      "cell_type": "code",
      "metadata": {
        "id": "zrYJ17jnHenR"
      },
      "source": [
        "model.save('leafDiseaseDetect2.h5')"
      ],
      "execution_count": null,
      "outputs": []
    },
    {
      "cell_type": "code",
      "metadata": {
        "id": "fZgme0ZfwKd7"
      },
      "source": [
        ""
      ],
      "execution_count": null,
      "outputs": []
    }
  ]
}